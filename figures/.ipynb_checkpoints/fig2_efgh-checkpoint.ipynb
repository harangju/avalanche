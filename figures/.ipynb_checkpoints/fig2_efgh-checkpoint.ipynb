{
 "cells": [
  {
   "cell_type": "code",
   "execution_count": null,
   "metadata": {},
   "outputs": [],
   "source": [
    "import sys\n",
    "!{sys.executable} -m pip install --upgrade pip\n",
    "!{sys.executable} -m pip install msgpack\n",
    "!{sys.executable} -m pip install mpmath\n",
    "!{sys.executable} -m pip install powerlaw\n",
    "import powerlaw\n",
    "import numpy as np\n",
    "import scipy.io as sio"
   ]
  },
  {
   "cell_type": "code",
   "execution_count": null,
   "metadata": {},
   "outputs": [],
   "source": [
    "np.seterr(divide='ignore', invalid='ignore')\n",
    "basedir = '/Users/harangju/Developer'\n",
    "x = sio.loadmat(basedir + '/durs.mat')\n",
    "dur_var_name = 'durs'\n",
    "(nrows,ncols) = x[dur_var_name].shape\n",
    "T = x['durs_max'][0][0]"
   ]
  },
  {
   "cell_type": "code",
   "execution_count": null,
   "metadata": {
    "scrolled": true
   },
   "outputs": [],
   "source": [
    "# f = [[0]*ncols]*nrows\n",
    "f = [0]*nrows\n",
    "for i in range(0,nrows):\n",
    "#     print('MLE for ({}/{},{}/{})...'.format(i+1,nrows,j+1,ncols))\n",
    "    print('MLE for {}/{}...'.format(i+1,nrows))\n",
    "    d = x[dur_var_name][i][j][0]\n",
    "    d = d[d<T]\n",
    "    if len(d) <= 1:\n",
    "        continue\n",
    "#     f[i] = powerlaw.Fit(d, xmin=min(d), discrete=True)\n",
    "    f[i] = powerlaw.Fit(d, discrete=True)\n",
    "#     for j in range(0,ncols):\n",
    "#         print('MLE for ({}/{},{}/{})...'.format(i+1,nrows,j+1,ncols))\n",
    "#         d = x[dur_var_name][i][j][0]\n",
    "#         d = d[d<T]\n",
    "#         if len(d) <= 1:\n",
    "#             continue\n",
    "# #         fit = powerlaw.Fit(d, xmin=min(d), discrete=True)\n",
    "#         fit = powerlaw.Fit(d, discrete=True)\n",
    "#         f[i][j] = fit"
   ]
  },
  {
   "cell_type": "code",
   "execution_count": null,
   "metadata": {},
   "outputs": [],
   "source": [
    "p = np.zeros((nrows,3))\n",
    "for i in range(0,nrows):\n",
    "    for j in range(0,ncols):\n",
    "        try:\n",
    "            p[i] = [f[i].truncated_power_law.parameter1, \\\n",
    "                      f[i].truncated_power_law.parameter2, \\\n",
    "                      f[i].truncated_power_law.xmin]\n",
    "        except:\n",
    "            print(\"{} not available\".format(i))\n",
    "p"
   ]
  },
  {
   "cell_type": "code",
   "execution_count": null,
   "metadata": {},
   "outputs": [],
   "source": [
    "t_pl_exp = np.zeros((nrows,2))\n",
    "t_pl_tpl = np.zeros((nrows,2))\n",
    "t_exp_tpl = np.zeros((nrows,2))\n",
    "for i in range(0,nrows):\n",
    "    try:\n",
    "        R, pval = f[i].distribution_compare('power_law', 'exponential', normalized_ratio = True)\n",
    "        t_pl_exp[i] = [R, pval]\n",
    "        R, pval = f[i].distribution_compare('power_law', 'truncated_power_law', normalized_ratio = True)\n",
    "        t_pl_tpl[i] = [R, pval]\n",
    "        R, pval = f[i].distribution_compare('exponential', 'truncated_power_law', normalized_ratio = True)\n",
    "        t_exp_tpl[i] = [R, pval]\n",
    "    except:\n",
    "        print(\"{} not available\".format(i))"
   ]
  },
  {
   "cell_type": "code",
   "execution_count": null,
   "metadata": {},
   "outputs": [],
   "source": [
    "sio.savemat('/Users/harangju/Developer/ft_pl.mat', {'ft_pl':p,'t_pl_exp':t_pl_exp,'t_pl_tpl':t_pl_tpl,'t_exp_tpl':t_exp_tpl})"
   ]
  }
 ],
 "metadata": {
  "kernelspec": {
   "display_name": "Python 3",
   "language": "python",
   "name": "python3"
  },
  "language_info": {
   "codemirror_mode": {
    "name": "ipython",
    "version": 3
   },
   "file_extension": ".py",
   "mimetype": "text/x-python",
   "name": "python",
   "nbconvert_exporter": "python",
   "pygments_lexer": "ipython3",
   "version": "3.7.3"
  }
 },
 "nbformat": 4,
 "nbformat_minor": 2
}
