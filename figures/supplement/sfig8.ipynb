{
 "cells": [
  {
   "cell_type": "code",
   "execution_count": 1,
   "metadata": {},
   "outputs": [
    {
     "name": "stdout",
     "output_type": "stream",
     "text": [
      "Requirement already up-to-date: pip in /anaconda3/envs/avalanche/lib/python3.7/site-packages (19.1.1)\n",
      "Requirement already satisfied: msgpack in /anaconda3/envs/avalanche/lib/python3.7/site-packages (0.6.1)\n",
      "Requirement already satisfied: mpmath in /anaconda3/envs/avalanche/lib/python3.7/site-packages (1.1.0)\n",
      "Requirement already satisfied: powerlaw in /anaconda3/envs/avalanche/lib/python3.7/site-packages (1.4.6)\n",
      "Requirement already satisfied: scipy in /anaconda3/envs/avalanche/lib/python3.7/site-packages (from powerlaw) (1.2.1)\n",
      "Requirement already satisfied: numpy in /anaconda3/envs/avalanche/lib/python3.7/site-packages (from powerlaw) (1.16.2)\n",
      "Requirement already satisfied: matplotlib in /anaconda3/envs/avalanche/lib/python3.7/site-packages (from powerlaw) (3.0.3)\n",
      "Requirement already satisfied: mpmath in /anaconda3/envs/avalanche/lib/python3.7/site-packages (from powerlaw) (1.1.0)\n",
      "Requirement already satisfied: cycler>=0.10 in /anaconda3/envs/avalanche/lib/python3.7/site-packages (from matplotlib->powerlaw) (0.10.0)\n",
      "Requirement already satisfied: kiwisolver>=1.0.1 in /anaconda3/envs/avalanche/lib/python3.7/site-packages (from matplotlib->powerlaw) (1.0.1)\n",
      "Requirement already satisfied: python-dateutil>=2.1 in /anaconda3/envs/avalanche/lib/python3.7/site-packages (from matplotlib->powerlaw) (2.8.0)\n",
      "Requirement already satisfied: pyparsing!=2.0.4,!=2.1.2,!=2.1.6,>=2.0.1 in /anaconda3/envs/avalanche/lib/python3.7/site-packages (from matplotlib->powerlaw) (2.3.1)\n",
      "Requirement already satisfied: six in /anaconda3/envs/avalanche/lib/python3.7/site-packages (from cycler>=0.10->matplotlib->powerlaw) (1.12.0)\n",
      "Requirement already satisfied: setuptools in /anaconda3/envs/avalanche/lib/python3.7/site-packages (from kiwisolver>=1.0.1->matplotlib->powerlaw) (40.8.0)\n"
     ]
    }
   ],
   "source": [
    "import sys\n",
    "!{sys.executable} -m pip install --upgrade pip\n",
    "!{sys.executable} -m pip install msgpack\n",
    "!{sys.executable} -m pip install mpmath\n",
    "!{sys.executable} -m pip install powerlaw\n",
    "import powerlaw\n",
    "import numpy as np\n",
    "import scipy.io as sio"
   ]
  },
  {
   "cell_type": "code",
   "execution_count": 14,
   "metadata": {},
   "outputs": [],
   "source": [
    "np.seterr(divide='ignore', invalid='ignore')\n",
    "basedir = '/Users/harangju/Developer'\n",
    "x = sio.loadmat(basedir + '/stats.mat')\n",
    "dur_var_name = 'drs'\n",
    "siz_var_name = 'szs'\n",
    "(nrows,ncols) = x[dur_var_name].shape"
   ]
  },
  {
   "cell_type": "code",
   "execution_count": 15,
   "metadata": {
    "scrolled": true
   },
   "outputs": [
    {
     "name": "stdout",
     "output_type": "stream",
     "text": [
      "MLE for 1/25...\n",
      "MLE for 2/25...\n"
     ]
    },
    {
     "name": "stderr",
     "output_type": "stream",
     "text": [
      "Calculating best minimal value for power law fit\n",
      "Calculating best minimal value for power law fit\n",
      "Calculating best minimal value for power law fit\n",
      "Calculating best minimal value for power law fit\n",
      "Calculating best minimal value for power law fit\n",
      "Calculating best minimal value for power law fit\n",
      "Calculating best minimal value for power law fit\n"
     ]
    },
    {
     "name": "stdout",
     "output_type": "stream",
     "text": [
      "MLE for 3/25...\n",
      "MLE for 4/25...\n",
      "MLE for 5/25...\n"
     ]
    },
    {
     "name": "stderr",
     "output_type": "stream",
     "text": [
      "Calculating best minimal value for power law fit\n",
      "Calculating best minimal value for power law fit\n",
      "Calculating best minimal value for power law fit\n",
      "Calculating best minimal value for power law fit\n"
     ]
    },
    {
     "name": "stdout",
     "output_type": "stream",
     "text": [
      "MLE for 6/25...\n",
      "MLE for 7/25...\n"
     ]
    },
    {
     "name": "stderr",
     "output_type": "stream",
     "text": [
      "Calculating best minimal value for power law fit\n",
      "Calculating best minimal value for power law fit\n",
      "Calculating best minimal value for power law fit\n",
      "Calculating best minimal value for power law fit\n"
     ]
    },
    {
     "name": "stdout",
     "output_type": "stream",
     "text": [
      "MLE for 8/25...\n",
      "MLE for 9/25...\n"
     ]
    },
    {
     "name": "stderr",
     "output_type": "stream",
     "text": [
      "Calculating best minimal value for power law fit\n",
      "Calculating best minimal value for power law fit\n",
      "Calculating best minimal value for power law fit\n",
      "Calculating best minimal value for power law fit\n"
     ]
    },
    {
     "name": "stdout",
     "output_type": "stream",
     "text": [
      "MLE for 10/25...\n",
      "MLE for 11/25...\n"
     ]
    },
    {
     "name": "stderr",
     "output_type": "stream",
     "text": [
      "Calculating best minimal value for power law fit\n",
      "Calculating best minimal value for power law fit\n",
      "Calculating best minimal value for power law fit\n"
     ]
    },
    {
     "name": "stdout",
     "output_type": "stream",
     "text": [
      "MLE for 12/25...\n"
     ]
    },
    {
     "name": "stderr",
     "output_type": "stream",
     "text": [
      "Calculating best minimal value for power law fit\n",
      "Calculating best minimal value for power law fit\n"
     ]
    },
    {
     "name": "stdout",
     "output_type": "stream",
     "text": [
      "MLE for 13/25...\n",
      "MLE for 14/25...\n"
     ]
    },
    {
     "name": "stderr",
     "output_type": "stream",
     "text": [
      "Calculating best minimal value for power law fit\n",
      "Calculating best minimal value for power law fit\n",
      "Calculating best minimal value for power law fit\n",
      "Calculating best minimal value for power law fit\n",
      "Calculating best minimal value for power law fit\n",
      "Calculating best minimal value for power law fit\n"
     ]
    },
    {
     "name": "stdout",
     "output_type": "stream",
     "text": [
      "MLE for 15/25...\n",
      "MLE for 16/25...\n"
     ]
    },
    {
     "name": "stderr",
     "output_type": "stream",
     "text": [
      "Calculating best minimal value for power law fit\n",
      "Calculating best minimal value for power law fit\n"
     ]
    },
    {
     "name": "stdout",
     "output_type": "stream",
     "text": [
      "MLE for 17/25...\n",
      "MLE for 18/25...\n"
     ]
    },
    {
     "name": "stderr",
     "output_type": "stream",
     "text": [
      "Calculating best minimal value for power law fit\n",
      "Calculating best minimal value for power law fit\n",
      "Calculating best minimal value for power law fit\n",
      "Calculating best minimal value for power law fit\n",
      "Calculating best minimal value for power law fit\n",
      "Calculating best minimal value for power law fit\n"
     ]
    },
    {
     "name": "stdout",
     "output_type": "stream",
     "text": [
      "MLE for 19/25...\n",
      "MLE for 20/25...\n"
     ]
    },
    {
     "name": "stderr",
     "output_type": "stream",
     "text": [
      "Calculating best minimal value for power law fit\n",
      "Calculating best minimal value for power law fit\n"
     ]
    },
    {
     "name": "stdout",
     "output_type": "stream",
     "text": [
      "MLE for 21/25...\n",
      "MLE for 22/25...\n"
     ]
    },
    {
     "name": "stderr",
     "output_type": "stream",
     "text": [
      "Calculating best minimal value for power law fit\n",
      "Calculating best minimal value for power law fit\n",
      "Calculating best minimal value for power law fit\n",
      "Calculating best minimal value for power law fit\n",
      "Calculating best minimal value for power law fit\n",
      "Calculating best minimal value for power law fit\n"
     ]
    },
    {
     "name": "stdout",
     "output_type": "stream",
     "text": [
      "MLE for 23/25...\n",
      "MLE for 24/25...\n"
     ]
    },
    {
     "name": "stderr",
     "output_type": "stream",
     "text": [
      "Calculating best minimal value for power law fit\n",
      "Calculating best minimal value for power law fit\n"
     ]
    },
    {
     "name": "stdout",
     "output_type": "stream",
     "text": [
      "MLE for 25/25...\n"
     ]
    },
    {
     "name": "stderr",
     "output_type": "stream",
     "text": [
      "Calculating best minimal value for power law fit\n",
      "Calculating best minimal value for power law fit\n"
     ]
    }
   ],
   "source": [
    "fd = [0]*nrows\n",
    "fs = [0]*nrows\n",
    "for i in range(0,nrows):\n",
    "    print('MLE for {}/{}...'.format(i+1,nrows))\n",
    "    d = x[dur_var_name][i][0][0]\n",
    "    s = x[siz_var_name][i][0][0]\n",
    "    fd[i] = powerlaw.Fit(d, discrete=True)\n",
    "    fs[i] = powerlaw.Fit(s, discrete=True)"
   ]
  },
  {
   "cell_type": "code",
   "execution_count": 16,
   "metadata": {},
   "outputs": [
    {
     "data": {
      "text/plain": [
       "array([[  2.95768467,   2.59050968,   4.        ],\n",
       "       [  5.04509038,   3.49528967, 148.        ],\n",
       "       [  3.38844007,   2.68380582,   4.        ],\n",
       "       [  2.26649829,   2.15640527,  19.        ],\n",
       "       [  2.67389283,   2.72813993,   4.        ],\n",
       "       [  3.16288261,   2.62120609,   5.        ],\n",
       "       [  2.76113427,   1.77953126,   8.        ],\n",
       "       [  3.77974506,   2.96732154,   4.        ],\n",
       "       [  3.18815941,   2.59758087,   6.        ],\n",
       "       [  3.91934018,   2.97087092,  32.        ],\n",
       "       [  2.23408801,   2.1629001 ,   5.        ],\n",
       "       [  2.2437385 ,   2.11523739,   4.        ],\n",
       "       [  2.50580196,   2.3435047 ,   7.        ],\n",
       "       [  2.56883418,   2.19420868,   4.        ],\n",
       "       [  2.24423741,   2.11618376,   3.        ],\n",
       "       [  2.03826003,   1.91653521,  11.        ],\n",
       "       [  2.19836871,   2.07369276,   7.        ],\n",
       "       [  1.98772271,   4.44045386, 279.        ],\n",
       "       [  3.00018826,   2.07607982,   8.        ],\n",
       "       [  1.80123953,   1.82678991,   3.        ],\n",
       "       [  1.80246833,   2.0238464 ,   5.        ],\n",
       "       [  2.71110737,   2.33839183,   2.        ],\n",
       "       [  1.68814335,   1.83067021,   4.        ],\n",
       "       [  2.12243287,   2.06434725,   7.        ],\n",
       "       [  2.34624114,   1.91733467,  11.        ]])"
      ]
     },
     "execution_count": 16,
     "metadata": {},
     "output_type": "execute_result"
    }
   ],
   "source": [
    "p = np.zeros((nrows,3))\n",
    "for i in range(0,nrows):\n",
    "    for j in range(0,ncols):\n",
    "        try:\n",
    "            p[i] = [fs[i].alpha, fd[i].alpha, fd[i].xmin]\n",
    "        except:\n",
    "            print(\"{} not available\".format(i))\n",
    "p"
   ]
  },
  {
   "cell_type": "code",
   "execution_count": 17,
   "metadata": {},
   "outputs": [],
   "source": [
    "sio.savemat('/Users/harangju/Developer/ft_pl.mat',\n",
    "            {'ft_pl':p})"
   ]
  }
 ],
 "metadata": {
  "kernelspec": {
   "display_name": "Python 3",
   "language": "python",
   "name": "python3"
  },
  "language_info": {
   "codemirror_mode": {
    "name": "ipython",
    "version": 3
   },
   "file_extension": ".py",
   "mimetype": "text/x-python",
   "name": "python",
   "nbconvert_exporter": "python",
   "pygments_lexer": "ipython3",
   "version": "3.7.3"
  }
 },
 "nbformat": 4,
 "nbformat_minor": 2
}
