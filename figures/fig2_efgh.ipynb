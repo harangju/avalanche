{
 "cells": [
  {
   "cell_type": "code",
   "execution_count": 1,
   "metadata": {},
   "outputs": [
    {
     "name": "stdout",
     "output_type": "stream",
     "text": [
      "Requirement already up-to-date: pip in /anaconda3/envs/avalanche/lib/python3.7/site-packages (19.1.1)\n",
      "Requirement already satisfied: msgpack in /anaconda3/envs/avalanche/lib/python3.7/site-packages (0.6.1)\n",
      "Requirement already satisfied: mpmath in /anaconda3/envs/avalanche/lib/python3.7/site-packages (1.1.0)\n",
      "Requirement already satisfied: powerlaw in /anaconda3/envs/avalanche/lib/python3.7/site-packages (1.4.6)\n",
      "Requirement already satisfied: matplotlib in /anaconda3/envs/avalanche/lib/python3.7/site-packages (from powerlaw) (3.0.3)\n",
      "Requirement already satisfied: numpy in /anaconda3/envs/avalanche/lib/python3.7/site-packages (from powerlaw) (1.16.2)\n",
      "Requirement already satisfied: scipy in /anaconda3/envs/avalanche/lib/python3.7/site-packages (from powerlaw) (1.2.1)\n",
      "Requirement already satisfied: mpmath in /anaconda3/envs/avalanche/lib/python3.7/site-packages (from powerlaw) (1.1.0)\n",
      "Requirement already satisfied: cycler>=0.10 in /anaconda3/envs/avalanche/lib/python3.7/site-packages (from matplotlib->powerlaw) (0.10.0)\n",
      "Requirement already satisfied: pyparsing!=2.0.4,!=2.1.2,!=2.1.6,>=2.0.1 in /anaconda3/envs/avalanche/lib/python3.7/site-packages (from matplotlib->powerlaw) (2.3.1)\n",
      "Requirement already satisfied: kiwisolver>=1.0.1 in /anaconda3/envs/avalanche/lib/python3.7/site-packages (from matplotlib->powerlaw) (1.0.1)\n",
      "Requirement already satisfied: python-dateutil>=2.1 in /anaconda3/envs/avalanche/lib/python3.7/site-packages (from matplotlib->powerlaw) (2.8.0)\n",
      "Requirement already satisfied: six in /anaconda3/envs/avalanche/lib/python3.7/site-packages (from cycler>=0.10->matplotlib->powerlaw) (1.12.0)\n",
      "Requirement already satisfied: setuptools in /anaconda3/envs/avalanche/lib/python3.7/site-packages (from kiwisolver>=1.0.1->matplotlib->powerlaw) (40.8.0)\n"
     ]
    }
   ],
   "source": [
    "import sys\n",
    "!{sys.executable} -m pip install --upgrade pip\n",
    "!{sys.executable} -m pip install msgpack\n",
    "!{sys.executable} -m pip install mpmath\n",
    "!{sys.executable} -m pip install powerlaw\n",
    "import powerlaw\n",
    "import numpy as np\n",
    "import scipy.io as sio"
   ]
  },
  {
   "cell_type": "code",
   "execution_count": 9,
   "metadata": {},
   "outputs": [],
   "source": [
    "np.seterr(divide='ignore', invalid='ignore')\n",
    "basedir = '/Users/harangju/Developer'\n",
    "x = sio.loadmat(basedir + '/durs.mat')\n",
    "dur_var_name = 'durs'\n",
    "(nrows,ncols) = x[dur_var_name].shape\n",
    "T = x['durs_max'][0][0]"
   ]
  },
  {
   "cell_type": "code",
   "execution_count": 10,
   "metadata": {
    "scrolled": true
   },
   "outputs": [
    {
     "name": "stdout",
     "output_type": "stream",
     "text": [
      "MLE for 1/25...\n",
      "MLE for 2/25...\n",
      "MLE for 3/25...\n"
     ]
    },
    {
     "name": "stderr",
     "output_type": "stream",
     "text": [
      "Calculating best minimal value for power law fit\n",
      "Calculating best minimal value for power law fit\n",
      "Calculating best minimal value for power law fit\n"
     ]
    },
    {
     "name": "stdout",
     "output_type": "stream",
     "text": [
      "MLE for 4/25...\n",
      "MLE for 5/25...\n"
     ]
    },
    {
     "name": "stderr",
     "output_type": "stream",
     "text": [
      "Calculating best minimal value for power law fit\n",
      "Calculating best minimal value for power law fit\n"
     ]
    },
    {
     "name": "stdout",
     "output_type": "stream",
     "text": [
      "MLE for 6/25...\n",
      "MLE for 7/25...\n"
     ]
    },
    {
     "name": "stderr",
     "output_type": "stream",
     "text": [
      "Calculating best minimal value for power law fit\n",
      "Calculating best minimal value for power law fit\n"
     ]
    },
    {
     "name": "stdout",
     "output_type": "stream",
     "text": [
      "MLE for 8/25...\n",
      "MLE for 9/25...\n"
     ]
    },
    {
     "name": "stderr",
     "output_type": "stream",
     "text": [
      "Calculating best minimal value for power law fit\n",
      "Calculating best minimal value for power law fit\n"
     ]
    },
    {
     "name": "stdout",
     "output_type": "stream",
     "text": [
      "MLE for 10/25...\n",
      "MLE for 11/25...\n",
      "MLE for 12/25...\n"
     ]
    },
    {
     "name": "stderr",
     "output_type": "stream",
     "text": [
      "Calculating best minimal value for power law fit\n",
      "Calculating best minimal value for power law fit\n",
      "Calculating best minimal value for power law fit\n"
     ]
    },
    {
     "name": "stdout",
     "output_type": "stream",
     "text": [
      "MLE for 13/25...\n",
      "MLE for 14/25...\n",
      "MLE for 15/25...\n"
     ]
    },
    {
     "name": "stderr",
     "output_type": "stream",
     "text": [
      "Calculating best minimal value for power law fit\n",
      "Calculating best minimal value for power law fit\n",
      "Calculating best minimal value for power law fit\n"
     ]
    },
    {
     "name": "stdout",
     "output_type": "stream",
     "text": [
      "MLE for 16/25...\n",
      "MLE for 17/25...\n",
      "MLE for 18/25...\n"
     ]
    },
    {
     "name": "stderr",
     "output_type": "stream",
     "text": [
      "Calculating best minimal value for power law fit\n",
      "Calculating best minimal value for power law fit\n",
      "Calculating best minimal value for power law fit\n",
      "Calculating best minimal value for power law fit\n",
      "Calculating best minimal value for power law fit\n"
     ]
    },
    {
     "name": "stdout",
     "output_type": "stream",
     "text": [
      "MLE for 19/25...\n",
      "MLE for 20/25...\n",
      "MLE for 21/25...\n",
      "MLE for 22/25...\n"
     ]
    },
    {
     "name": "stderr",
     "output_type": "stream",
     "text": [
      "Calculating best minimal value for power law fit\n",
      "Calculating best minimal value for power law fit\n",
      "Calculating best minimal value for power law fit\n"
     ]
    },
    {
     "name": "stdout",
     "output_type": "stream",
     "text": [
      "MLE for 23/25...\n",
      "MLE for 24/25...\n",
      "MLE for 25/25...\n"
     ]
    },
    {
     "name": "stderr",
     "output_type": "stream",
     "text": [
      "Calculating best minimal value for power law fit\n",
      "Calculating best minimal value for power law fit\n"
     ]
    }
   ],
   "source": [
    "f = [0]*nrows\n",
    "for i in range(0,nrows):\n",
    "#     print('MLE for ({}/{},{}/{})...'.format(i+1,nrows,j+1,ncols))\n",
    "    print('MLE for {}/{}...'.format(i+1,nrows))\n",
    "    d = x[dur_var_name][i][0]\n",
    "    d = d[d<T]\n",
    "    if len(d) <= 1:\n",
    "        continue\n",
    "    f[i] = powerlaw.Fit(d, discrete=True)"
   ]
  },
  {
   "cell_type": "code",
   "execution_count": 11,
   "metadata": {},
   "outputs": [
    {
     "data": {
      "text/plain": [
       "array([[2.62179051e+00, 2.09121077e-04, 4.00000000e+00],\n",
       "       [2.43949810e+00, 5.69049029e-03, 3.20000000e+01],\n",
       "       [2.16516806e+00, 9.14199272e-05, 5.00000000e+00],\n",
       "       [2.12564036e+00, 3.81622922e-05, 4.00000000e+00],\n",
       "       [2.34171585e+00, 1.28472755e-04, 7.00000000e+00],\n",
       "       [2.21024438e+00, 2.85071510e-06, 4.00000000e+00],\n",
       "       [2.14225383e+00, 1.77487717e-06, 3.00000000e+00],\n",
       "       [1.88329142e+00, 1.20245081e-04, 1.10000000e+01],\n",
       "       [1.94984108e+00, 1.89693678e-03, 7.00000000e+00],\n",
       "       [3.88258115e+00, 1.06617142e-03, 2.79000000e+02],\n",
       "       [2.07360979e+00, 2.76424697e-05, 8.00000000e+00],\n",
       "       [1.78185705e+00, 5.39609970e-03, 1.48000000e+02],\n",
       "       [1.73069697e+00, 1.97380752e-03, 3.00000000e+00],\n",
       "       [1.92171845e+00, 1.97822230e-03, 5.00000000e+00],\n",
       "       [2.45735269e+00, 1.06662387e-10, 2.00000000e+00],\n",
       "       [1.81037973e+00, 1.69250364e-04, 4.00000000e+00],\n",
       "       [2.05780936e+00, 6.83692785e-05, 7.00000000e+00],\n",
       "       [1.84662102e+00, 3.46265728e-04, 1.10000000e+01],\n",
       "       [2.72592068e+00, 3.48981329e-10, 4.00000000e+00],\n",
       "       [1.60352999e+00, 5.27849872e-03, 1.90000000e+01],\n",
       "       [2.77353120e+00, 1.00417771e-09, 4.00000000e+00],\n",
       "       [2.64413667e+00, 6.19018868e-10, 5.00000000e+00],\n",
       "       [1.48836679e+00, 2.55995719e-03, 8.00000000e+00],\n",
       "       [3.03297892e+00, 2.80060561e-10, 4.00000000e+00],\n",
       "       [2.61218429e+00, 4.57928652e-10, 6.00000000e+00]])"
      ]
     },
     "execution_count": 11,
     "metadata": {},
     "output_type": "execute_result"
    }
   ],
   "source": [
    "p = np.zeros((nrows,3))\n",
    "for i in range(0,nrows):\n",
    "    for j in range(0,ncols):\n",
    "        try:\n",
    "            p[i] = [f[i].truncated_power_law.parameter1, \\\n",
    "                      f[i].truncated_power_law.parameter2, \\\n",
    "                      f[i].truncated_power_law.xmin]\n",
    "        except:\n",
    "            print(\"{} not available\".format(i))\n",
    "p"
   ]
  },
  {
   "cell_type": "code",
   "execution_count": 12,
   "metadata": {},
   "outputs": [
    {
     "name": "stderr",
     "output_type": "stream",
     "text": [
      "Assuming nested distributions\n",
      "Assuming nested distributions\n",
      "Assuming nested distributions\n",
      "Assuming nested distributions\n",
      "Assuming nested distributions\n",
      "Assuming nested distributions\n",
      "Assuming nested distributions\n",
      "Assuming nested distributions\n",
      "Assuming nested distributions\n",
      "Assuming nested distributions\n",
      "Assuming nested distributions\n",
      "Assuming nested distributions\n",
      "Assuming nested distributions\n",
      "Assuming nested distributions\n",
      "Assuming nested distributions\n",
      "Assuming nested distributions\n",
      "Assuming nested distributions\n",
      "Assuming nested distributions\n",
      "Assuming nested distributions\n",
      "Assuming nested distributions\n",
      "Assuming nested distributions\n",
      "Assuming nested distributions\n",
      "Assuming nested distributions\n",
      "Assuming nested distributions\n",
      "Assuming nested distributions\n"
     ]
    }
   ],
   "source": [
    "t_pl_exp = np.zeros((nrows,2))\n",
    "t_pl_tpl = np.zeros((nrows,2))\n",
    "t_tpl_exp = np.zeros((nrows,2))\n",
    "for i in range(0,nrows):\n",
    "    try:\n",
    "        R, pval = f[i].distribution_compare('power_law', 'exponential', normalized_ratio = True)\n",
    "        t_pl_exp[i] = [R, pval]\n",
    "        R, pval = f[i].distribution_compare('power_law', 'truncated_power_law', normalized_ratio = True)\n",
    "        t_pl_tpl[i] = [R, pval]\n",
    "        R, pval = f[i].distribution_compare('truncated_power_law', 'exponential', normalized_ratio = True)\n",
    "        t_tpl_exp[i] = [R, pval]\n",
    "    except:\n",
    "        print(\"{} not available\".format(i))"
   ]
  },
  {
   "cell_type": "code",
   "execution_count": 13,
   "metadata": {},
   "outputs": [],
   "source": [
    "sio.savemat('/Users/harangju/Developer/ft_pl.mat',\n",
    "            {'ft_pl':p,'t_pl_exp':t_pl_exp,'t_pl_tpl':t_pl_tpl,'t_tpl_exp':t_tpl_exp})"
   ]
  }
 ],
 "metadata": {
  "kernelspec": {
   "display_name": "Python 3",
   "language": "python",
   "name": "python3"
  },
  "language_info": {
   "codemirror_mode": {
    "name": "ipython",
    "version": 3
   },
   "file_extension": ".py",
   "mimetype": "text/x-python",
   "name": "python",
   "nbconvert_exporter": "python",
   "pygments_lexer": "ipython3",
   "version": "3.7.3"
  }
 },
 "nbformat": 4,
 "nbformat_minor": 2
}
