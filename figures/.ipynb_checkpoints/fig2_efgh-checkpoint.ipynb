{
 "cells": [
  {
   "cell_type": "code",
   "execution_count": null,
   "metadata": {},
   "outputs": [],
   "source": [
    "import sys\n",
    "!{sys.executable} -m pip install --upgrade pip\n",
    "!{sys.executable} -m pip install msgpack\n",
    "!{sys.executable} -m pip install mpmath\n",
    "!{sys.executable} -m pip install powerlaw\n",
    "import powerlaw\n",
    "import numpy as np\n",
    "import scipy.io as sio"
   ]
  },
  {
   "cell_type": "code",
   "execution_count": 76,
   "metadata": {},
   "outputs": [],
   "source": [
    "np.seterr(divide='ignore', invalid='ignore')\n",
    "basedir = '/Users/harangju/Developer'\n",
    "x = sio.loadmat(basedir + '/durs.mat')\n",
    "dur_var_name = 'durs'\n",
    "(nrows,ncols) = x[dur_var_name].shape\n",
    "T = x['durs_max'][0][0]"
   ]
  },
  {
   "cell_type": "code",
   "execution_count": 84,
   "metadata": {},
   "outputs": [
    {
     "name": "stderr",
     "output_type": "stream",
     "text": [
      "Calculating best minimal value for power law fit\n"
     ]
    }
   ],
   "source": [
    "fit = powerlaw.Fit(x['durs'][0], discrete=True)\n",
    "p = [fit.truncated_power_law.parameter1, fit.truncated_power_law.parameter2, fit.truncated_power_law.xmin]\n",
    "sio.savemat('/Users/harangju/Developer/ft_pl.mat', {'ft_pl':p})"
   ]
  },
  {
   "cell_type": "code",
   "execution_count": 77,
   "metadata": {},
   "outputs": [
    {
     "name": "stdout",
     "output_type": "stream",
     "text": [
      "MLE for (1/1,1/1000000)...\n"
     ]
    },
    {
     "ename": "IndexError",
     "evalue": "invalid index to scalar variable.",
     "output_type": "error",
     "traceback": [
      "\u001b[0;31m---------------------------------------------------------------------------\u001b[0m",
      "\u001b[0;31mIndexError\u001b[0m                                Traceback (most recent call last)",
      "\u001b[0;32m<ipython-input-77-b605943db173>\u001b[0m in \u001b[0;36m<module>\u001b[0;34m\u001b[0m\n\u001b[1;32m      3\u001b[0m     \u001b[0;32mfor\u001b[0m \u001b[0mj\u001b[0m \u001b[0;32min\u001b[0m \u001b[0mrange\u001b[0m\u001b[0;34m(\u001b[0m\u001b[0;36m0\u001b[0m\u001b[0;34m,\u001b[0m\u001b[0mncols\u001b[0m\u001b[0;34m)\u001b[0m\u001b[0;34m:\u001b[0m\u001b[0;34m\u001b[0m\u001b[0;34m\u001b[0m\u001b[0m\n\u001b[1;32m      4\u001b[0m         \u001b[0mprint\u001b[0m\u001b[0;34m(\u001b[0m\u001b[0;34m'MLE for ({}/{},{}/{})...'\u001b[0m\u001b[0;34m.\u001b[0m\u001b[0mformat\u001b[0m\u001b[0;34m(\u001b[0m\u001b[0mi\u001b[0m\u001b[0;34m+\u001b[0m\u001b[0;36m1\u001b[0m\u001b[0;34m,\u001b[0m\u001b[0mnrows\u001b[0m\u001b[0;34m,\u001b[0m\u001b[0mj\u001b[0m\u001b[0;34m+\u001b[0m\u001b[0;36m1\u001b[0m\u001b[0;34m,\u001b[0m\u001b[0mncols\u001b[0m\u001b[0;34m)\u001b[0m\u001b[0;34m)\u001b[0m\u001b[0;34m\u001b[0m\u001b[0;34m\u001b[0m\u001b[0m\n\u001b[0;32m----> 5\u001b[0;31m         \u001b[0md\u001b[0m \u001b[0;34m=\u001b[0m \u001b[0mx\u001b[0m\u001b[0;34m[\u001b[0m\u001b[0mdur_var_name\u001b[0m\u001b[0;34m]\u001b[0m\u001b[0;34m[\u001b[0m\u001b[0mi\u001b[0m\u001b[0;34m]\u001b[0m\u001b[0;34m[\u001b[0m\u001b[0mj\u001b[0m\u001b[0;34m]\u001b[0m\u001b[0;34m[\u001b[0m\u001b[0;36m0\u001b[0m\u001b[0;34m]\u001b[0m\u001b[0;34m\u001b[0m\u001b[0;34m\u001b[0m\u001b[0m\n\u001b[0m\u001b[1;32m      6\u001b[0m         \u001b[0md\u001b[0m \u001b[0;34m=\u001b[0m \u001b[0md\u001b[0m\u001b[0;34m[\u001b[0m\u001b[0md\u001b[0m\u001b[0;34m<\u001b[0m\u001b[0mT\u001b[0m\u001b[0;34m]\u001b[0m\u001b[0;34m\u001b[0m\u001b[0;34m\u001b[0m\u001b[0m\n\u001b[1;32m      7\u001b[0m         \u001b[0;32mif\u001b[0m \u001b[0mlen\u001b[0m\u001b[0;34m(\u001b[0m\u001b[0md\u001b[0m\u001b[0;34m)\u001b[0m \u001b[0;34m<=\u001b[0m \u001b[0;36m1\u001b[0m\u001b[0;34m:\u001b[0m\u001b[0;34m\u001b[0m\u001b[0;34m\u001b[0m\u001b[0m\n",
      "\u001b[0;31mIndexError\u001b[0m: invalid index to scalar variable."
     ]
    }
   ],
   "source": [
    "f = [[0]*ncols]*nrows\n",
    "for i in range(0,nrows):\n",
    "    for j in range(0,ncols):\n",
    "        print('MLE for ({}/{},{}/{})...'.format(i+1,nrows,j+1,ncols))\n",
    "        d = x[dur_var_name][i][j][0]\n",
    "        d = d[d<T]\n",
    "        if len(d) <= 1:\n",
    "            continue\n",
    "#         fit = powerlaw.Fit(d, xmin=min(d), discrete=True)\n",
    "        fit = powerlaw.Fit(d, discrete=True)\n",
    "        f[i][j] = fit"
   ]
  },
  {
   "cell_type": "code",
   "execution_count": 74,
   "metadata": {},
   "outputs": [
    {
     "data": {
      "text/plain": [
       "array([[[1.00000240e+00, 3.90380367e-01, 1.80000000e+01],\n",
       "        [1.00009411e+00, 1.48183324e-01, 2.90000000e+01],\n",
       "        [1.00007541e+00, 9.45749427e-02, 5.00000000e+01],\n",
       "        [1.00000161e+00, 5.76456739e-02, 9.00000000e+01],\n",
       "        [1.00005043e+00, 7.93420264e-02, 5.90000000e+01],\n",
       "        [1.00001120e+00, 3.11884904e-02, 1.13000000e+02],\n",
       "        [1.00005739e+00, 7.42354329e-02, 5.90000000e+01],\n",
       "        [6.06057864e+00, 3.58405602e-02, 4.70000000e+01],\n",
       "        [1.00003758e+00, 6.42953486e-02, 6.70000000e+01],\n",
       "        [1.00007184e+00, 5.83960060e-02, 9.20000000e+01],\n",
       "        [1.00004255e+00, 7.52289795e-02, 6.60000000e+01],\n",
       "        [1.00001720e+00, 2.42198286e-01, 2.00000000e+01],\n",
       "        [1.00004323e+00, 1.65076650e-01, 2.90000000e+01],\n",
       "        [1.00009431e+00, 2.58437448e-02, 1.68000000e+02],\n",
       "        [1.14747270e+00, 4.59589354e-02, 7.80000000e+01],\n",
       "        [2.27916741e+00, 3.67638606e-02, 1.08000000e+02],\n",
       "        [1.35851931e+00, 5.77773941e-02, 7.60000000e+01],\n",
       "        [2.78837653e+00, 5.43412644e-02, 7.00000000e+01],\n",
       "        [4.65972972e+00, 3.07229549e-02, 7.50000000e+01],\n",
       "        [1.00001661e+00, 2.19865048e-01, 2.50000000e+01],\n",
       "        [1.83237987e+00, 2.18309899e-01, 2.90000000e+01],\n",
       "        [1.00004592e+00, 9.08901009e-02, 4.50000000e+01],\n",
       "        [1.00002558e+00, 1.00782777e-01, 3.70000000e+01],\n",
       "        [1.19011070e+00, 6.21548661e-02, 4.80000000e+01],\n",
       "        [3.32174635e+00, 8.21181013e-02, 5.20000000e+01]]])"
      ]
     },
     "execution_count": 74,
     "metadata": {},
     "output_type": "execute_result"
    }
   ],
   "source": [
    "p = np.zeros((nrows,ncols,3))\n",
    "for i in range(0,nrows):\n",
    "    for j in range(0,ncols):\n",
    "        p[i,j] = [f[i][j].truncated_power_law.parameter1, \\\n",
    "                  f[i][j].truncated_power_law.parameter2, \\\n",
    "                  f[i][j].truncated_power_law.xmin]\n",
    "p"
   ]
  },
  {
   "cell_type": "code",
   "execution_count": 75,
   "metadata": {},
   "outputs": [],
   "source": [
    "sio.savemat('/Users/harangju/Developer/ft_pl.mat', {'ft_pl':p})"
   ]
  }
 ],
 "metadata": {
  "kernelspec": {
   "display_name": "Python 3",
   "language": "python",
   "name": "python3"
  },
  "language_info": {
   "codemirror_mode": {
    "name": "ipython",
    "version": 3
   },
   "file_extension": ".py",
   "mimetype": "text/x-python",
   "name": "python",
   "nbconvert_exporter": "python",
   "pygments_lexer": "ipython3",
   "version": "3.7.3"
  }
 },
 "nbformat": 4,
 "nbformat_minor": 2
}
